{
 "cells": [
  {
   "cell_type": "markdown",
   "id": "df52bda1",
   "metadata": {},
   "source": [
    "# Web scraping Player and Team Links from Basketball-reference"
   ]
  },
  {
   "cell_type": "markdown",
   "id": "eb1f7f9b",
   "metadata": {},
   "source": [
    "This notebook is meant to web scrape basketball-reference profile links and names to be used for other visualizations, ML models etc. "
   ]
  },
  {
   "cell_type": "markdown",
   "id": "167368bf",
   "metadata": {},
   "source": [
    "## Importing Libraries"
   ]
  },
  {
   "cell_type": "code",
   "execution_count": 1,
   "id": "2572e926",
   "metadata": {},
   "outputs": [],
   "source": [
    "from requests import get\n",
    "from bs4 import BeautifulSoup\n",
    "import re\n",
    "import pandas as pd\n",
    "import matplotlib.pyplot as plt"
   ]
  },
  {
   "cell_type": "markdown",
   "id": "b52c44f9",
   "metadata": {},
   "source": [
    "## Scrape Player Names and Links to Profiles"
   ]
  },
  {
   "cell_type": "code",
   "execution_count": 2,
   "id": "337fb60c",
   "metadata": {},
   "outputs": [],
   "source": [
    "last_letters = 'abcdefghijklmnopqrstuvwyz'\n",
    "player_links = []\n",
    "player_names = []\n",
    "for last_name_letter in last_letters:\n",
    "    response = get(\"https://www.basketball-reference.com/players/\"+last_name_letter)\n",
    "    soup = BeautifulSoup(response.text, \"html.parser\")\n",
    "    for link in soup.findAll('a', attrs={'href': re.compile(\"/players/\"+last_name_letter)}):\n",
    "        player_link = \"https://www.basketball-reference.com\"+link.get('href')\n",
    "        player_links.append(player_link)\n",
    "        response = get(player_link)\n",
    "        soup = BeautifulSoup(response.text, \"html.parser\")\n",
    "        player_name = str(soup.find('h1', {'itemprop' : re.compile('name')}))\n",
    "        player_name = re.search(r'<span>(.*?)</span>', player_name).group(1)\n",
    "        player_names.append(player_name)"
   ]
  },
  {
   "cell_type": "markdown",
   "id": "7a74b2e6",
   "metadata": {},
   "source": [
    "## Save dataframe to csv"
   ]
  },
  {
   "cell_type": "code",
   "execution_count": null,
   "id": "d3ed3851",
   "metadata": {},
   "outputs": [],
   "source": [
    "# data = pd.DataFrame({\"Player Name\": player_names, \"Player Links\":player_links})\n",
    "# data.to_csv(\"player_links.csv\")\n",
    "data = pd.read_csv(\"player_links.csv\")\n",
    "data = data.drop([\"Unnamed: 0\"], axis=1)\n",
    "data"
   ]
  },
  {
   "cell_type": "markdown",
   "id": "dc423ec7",
   "metadata": {},
   "source": [
    "## Scrape Team Names and Links to Profiles"
   ]
  },
  {
   "cell_type": "code",
   "execution_count": null,
   "id": "c7b99a4d",
   "metadata": {},
   "outputs": [],
   "source": [
    "team_abbrs = [\n",
    "    'ATL', 'BOS', 'NJN', 'CHA', 'CHI', 'CLE', 'DAL', 'DEN', 'DET', 'GSW', 'HOU', 'IND', \n",
    "    'LAC', 'LAL', 'MEM', 'MIA', 'MIL', 'MIN', 'NOH', 'NYK', 'OKC', 'ORL', 'PHI', 'PHO', \n",
    "    'POR', 'SAC', 'SAS', 'TOR', 'UTA', 'WAS'\n",
    "]\n",
    "\n",
    "team_links = []\n",
    "team_names = []\n",
    "for abbr in team_abbrs:\n",
    "    team_link = \"https://www.basketball-reference.com/teams/\"+abbr+\"/\"\n",
    "    team_links.append(team_link)\n",
    "    response = get(team_link)\n",
    "    soup = BeautifulSoup(response.text, \"html.parser\")\n",
    "    team_name = str(soup.find('h1', {'itemprop' : re.compile('name')}))\n",
    "    team_name = re.search(r'<span>(.*?)</span>', team_name).group(1)\n",
    "    team_names.append(team_name)"
   ]
  },
  {
   "cell_type": "markdown",
   "id": "4a783b6d",
   "metadata": {},
   "source": [
    "## Save dataframe to csv"
   ]
  },
  {
   "cell_type": "code",
   "execution_count": null,
   "id": "0d6c243c",
   "metadata": {},
   "outputs": [],
   "source": [
    "data = pd.DataFrame({\"Team Name\": team_names, \"Team Links\":team_links})\n",
    "data.to_csv(\"team_links.csv\")\n",
    "data"
   ]
  }
 ],
 "metadata": {
  "kernelspec": {
   "display_name": "Python 3",
   "language": "python",
   "name": "python3"
  },
  "language_info": {
   "codemirror_mode": {
    "name": "ipython",
    "version": 3
   },
   "file_extension": ".py",
   "mimetype": "text/x-python",
   "name": "python",
   "nbconvert_exporter": "python",
   "pygments_lexer": "ipython3",
   "version": "3.6.13"
  }
 },
 "nbformat": 4,
 "nbformat_minor": 5
}
